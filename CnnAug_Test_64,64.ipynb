{
  "nbformat": 4,
  "nbformat_minor": 0,
  "metadata": {
    "colab": {
      "provenance": [],
      "toc_visible": true,
      "authorship_tag": "ABX9TyPVc61I4G9a4T3UosuLgZTz",
      "include_colab_link": true
    },
    "kernelspec": {
      "name": "python3",
      "display_name": "Python 3"
    },
    "language_info": {
      "name": "python"
    },
    "accelerator": "GPU",
    "gpuClass": "standard"
  },
  "cells": [
    {
      "cell_type": "markdown",
      "metadata": {
        "id": "view-in-github",
        "colab_type": "text"
      },
      "source": [
        "<a href=\"https://colab.research.google.com/github/nou321/PFE_Nour/blob/main/CnnAug_Test_64%2C64.ipynb\" target=\"_parent\"><img src=\"https://colab.research.google.com/assets/colab-badge.svg\" alt=\"Open In Colab\"/></a>"
      ]
    },
    {
      "cell_type": "code",
      "source": [
        "from sklearn.metrics import classification_report\n"
      ],
      "metadata": {
        "id": "t_taoxqPLi_B"
      },
      "execution_count": 1,
      "outputs": []
    },
    {
      "cell_type": "markdown",
      "source": [
        "## 1- importer les bibliothéques"
      ],
      "metadata": {
        "id": "QqcN9axSgP7v"
      }
    },
    {
      "cell_type": "code",
      "execution_count": 2,
      "metadata": {
        "id": "w6zZEL3jZmS2"
      },
      "outputs": [],
      "source": [
        "import os\n",
        "from PIL import Image\n",
        "import numpy as np \n",
        "import pandas as pd\n",
        "from skimage.io import imread\n",
        "import matplotlib.pyplot as plt\n",
        "import shutil\n",
        "from sklearn.model_selection import cross_validate, train_test_split\n",
        "from sklearn.metrics import make_scorer, recall_score, precision_score\n",
        "\n",
        "import tensorflow as tf\n",
        "import keras\n",
        "from keras.models import Sequential\n",
        "from keras.layers import Dense, Conv2D, Flatten, Dropout, MaxPooling2D, Activation, BatchNormalization\n",
        "from keras.backend import dropout\n",
        "from keras.layers.convolutional import Conv2D\n",
        "from keras.layers.pooling import MaxPooling2D\n",
        "\n",
        "from keras.wrappers.scikit_learn import KerasClassifier\n",
        "from sklearn.model_selection import cross_val_score\n",
        "from keras.optimizers import Adam"
      ]
    },
    {
      "cell_type": "markdown",
      "source": [
        "## 2- fixer les path des données augmenter "
      ],
      "metadata": {
        "id": "7VPkOhn2gUGg"
      }
    },
    {
      "cell_type": "code",
      "source": [
        "\n",
        "from google.colab import drive\n",
        "drive.mount('/content/drive')\n",
        "sj_fliped='/content/drive/MyDrive/Colab Notebooks/Pfe/3 HarmonicSS benchmark dataset/Data_aug/sj_aug/sj_fliped'\n",
        "sj_zoom='/content/drive/MyDrive/Colab Notebooks/Pfe/3 HarmonicSS benchmark dataset/Data_aug/sj_aug/sj_zoom'\n",
        "sj_rotation='/content/drive/MyDrive/Colab Notebooks/Pfe/3 HarmonicSS benchmark dataset/Data_aug/sj_aug/sj_rotation'\n",
        "sj_translation='/content/drive/MyDrive/Colab Notebooks/Pfe/3 HarmonicSS benchmark dataset/Data_aug/sj_aug/sj_translation'\n",
        "sj_distortion='/content/drive/MyDrive/Colab Notebooks/Pfe/3 HarmonicSS benchmark dataset/Data_aug/sj_aug/sj_distortion'\n",
        "sj_rot_trans_flip='/content/drive/MyDrive/Colab Notebooks/Pfe/3 HarmonicSS benchmark dataset/Data_aug/sj_aug/sj_fliped_rotation_translation'\n",
        "sj_flip_distortion='/content/drive/MyDrive/Colab Notebooks/Pfe/3 HarmonicSS benchmark dataset/Data_aug/sj_aug/sj_fliped_distortion'\n",
        "sj_rot_tran='/content/drive/MyDrive/Colab Notebooks/Pfe/3 HarmonicSS benchmark dataset/Data_aug/sj_aug/sj_rotation_translation'\n",
        "\n",
        "nsj_fliped='/content/drive/MyDrive/Colab Notebooks/Pfe/3 HarmonicSS benchmark dataset/Data_aug/nsj_aug/nsj_fliped'\n",
        "nsj_zoom='/content/drive/MyDrive/Colab Notebooks/Pfe/3 HarmonicSS benchmark dataset/Data_aug/nsj_aug/nsj_zoom'\n",
        "nsj_rotation='/content/drive/MyDrive/Colab Notebooks/Pfe/3 HarmonicSS benchmark dataset/Data_aug/nsj_aug/nsj_rotation'\n",
        "nsj_translation='/content/drive/MyDrive/Colab Notebooks/Pfe/3 HarmonicSS benchmark dataset/Data_aug/nsj_aug/nsj_translation'\n",
        "nsj_distortion='/content/drive/MyDrive/Colab Notebooks/Pfe/3 HarmonicSS benchmark dataset/Data_aug/nsj_aug/nsj_distortion'\n",
        "nsj_rot_trans_flip='/content/drive/MyDrive/Colab Notebooks/Pfe/3 HarmonicSS benchmark dataset/Data_aug/nsj_aug/nsj_fliped_rotation_translation'\n",
        "nsj_flip_distortion='/content/drive/MyDrive/Colab Notebooks/Pfe/3 HarmonicSS benchmark dataset/Data_aug/nsj_aug/nsj_fliped_distortion'\n",
        "nsj_rot_tran='/content/drive/MyDrive/Colab Notebooks/Pfe/3 HarmonicSS benchmark dataset/Data_aug/nsj_aug/nsj_rotation_translation'"
      ],
      "metadata": {
        "colab": {
          "base_uri": "https://localhost:8080/"
        },
        "id": "THLsXJy1a3wN",
        "outputId": "f26c4335-c18e-457d-92a2-2cf521b25619"
      },
      "execution_count": 3,
      "outputs": [
        {
          "output_type": "stream",
          "name": "stdout",
          "text": [
            "Mounted at /content/drive\n"
          ]
        }
      ]
    },
    {
      "cell_type": "code",
      "source": [
        "sj_path='/content/drive/MyDrive/Colab Notebooks/Pfe/3 HarmonicSS benchmark dataset/sj'\n",
        "nsj_path='/content/drive/MyDrive/Colab Notebooks/Pfe/3 HarmonicSS benchmark dataset/nsj'"
      ],
      "metadata": {
        "id": "IrXRkvONZQPZ"
      },
      "execution_count": 5,
      "outputs": []
    },
    {
      "cell_type": "markdown",
      "source": [
        "## Mise en Forme des images"
      ],
      "metadata": {
        "id": "-WMkHQIeiX0i"
      }
    },
    {
      "cell_type": "code",
      "source": [
        "\n",
        "def mise_tenseur (path, nl, nc,pl):\n",
        "    images_liste = os.listdir(path)\n",
        "    images_liste.sort()\n",
        "    Nb_images = len(images_liste)\n",
        "    tenseur = np.empty((Nb_images, nl, nc, pl), dtype=np.uint8)\n",
        "    k = 0\n",
        "    for im in images_liste:\n",
        "       \n",
        "        img = imread(path+'/'+im)\n",
        "        tenseur[k, :, :, 0] = img\n",
        "        k +=1\n",
        "    return(tenseur)"
      ],
      "metadata": {
        "id": "mg2chpaCf7Sm"
      },
      "execution_count": 6,
      "outputs": []
    },
    {
      "cell_type": "code",
      "source": [
        "sj_original=mise_tenseur(sj_path,64,64,1)\n",
        "nsj_original=mise_tenseur(nsj_path,64,64,1)"
      ],
      "metadata": {
        "id": "OiCIfhq_Z1TE"
      },
      "execution_count": 7,
      "outputs": []
    },
    {
      "cell_type": "code",
      "source": [
        "flipped_data= mise_tenseur(sj_fliped, 64, 64,1)\n",
        "zoom_data=mise_tenseur(sj_zoom,64,64,1)\n",
        "rotate_data=mise_tenseur(sj_rotation,64,64,1)\n",
        "translate_data=mise_tenseur(sj_translation,64,64,1)\n",
        "distortion_data=mise_tenseur(sj_distortion,64,64,1)\n",
        "flip_dist_data=mise_tenseur(sj_flip_distortion,64,64,1)\n",
        "rot_trans_flip_data=mise_tenseur(sj_rot_trans_flip,64,64,1)\n",
        "rot_tran=mise_tenseur(sj_rot_tran,64,64,1)\n"
      ],
      "metadata": {
        "id": "GmiTTbUf1MuO"
      },
      "execution_count": 8,
      "outputs": []
    },
    {
      "cell_type": "code",
      "source": [
        "sj_data = []\n",
        "sj_data.extend(rotate_data)\n",
        "sj_data.extend(flipped_data)\n",
        "sj_data.extend(zoom_data)\n",
        "sj_data.extend(translate_data)\n",
        "sj_data.extend(distortion_data)\n",
        "sj_data.extend(rot_trans_flip_data)\n",
        "sj_data.extend(flip_dist_data)\n",
        "sj_data.extend(rot_tran)"
      ],
      "metadata": {
        "id": "DMRwCpvhZGod"
      },
      "execution_count": 9,
      "outputs": []
    },
    {
      "cell_type": "code",
      "source": [
        "len(sj_data)"
      ],
      "metadata": {
        "colab": {
          "base_uri": "https://localhost:8080/"
        },
        "id": "Iqji0Mf6V_GG",
        "outputId": "7203830c-6c75-4f17-8e84-78bec38bfa62"
      },
      "execution_count": 10,
      "outputs": [
        {
          "output_type": "execute_result",
          "data": {
            "text/plain": [
              "1955"
            ]
          },
          "metadata": {},
          "execution_count": 10
        }
      ]
    },
    {
      "cell_type": "code",
      "source": [
        "flipped_data_nsj= mise_tenseur(nsj_fliped, 64, 64,1)\n",
        "zoom_data_nsj=mise_tenseur(nsj_zoom,64,64,1)\n",
        "rotate_data_nsj=mise_tenseur(nsj_rotation,64,64,1)\n",
        "translate_data_nsj=mise_tenseur(nsj_translation,64,64,1)\n",
        "distortion_data_nsj=mise_tenseur(nsj_distortion,64,64,1)\n",
        "flip_dist_data_nsj=mise_tenseur(nsj_flip_distortion,64,64,1)\n",
        "rot_trans_flip_data_nsj=mise_tenseur(nsj_rot_trans_flip,64,64,1)\n",
        "rot_tran_nsj=mise_tenseur(nsj_rot_tran,64,64,1)\n"
      ],
      "metadata": {
        "id": "6LjEktsA-emg"
      },
      "execution_count": 11,
      "outputs": []
    },
    {
      "cell_type": "code",
      "source": [
        "nsj_data = []\n",
        "nsj_data.extend(rotate_data_nsj)\n",
        "nsj_data.extend(flipped_data_nsj)\n",
        "nsj_data.extend(rot_trans_flip_data_nsj)\n",
        "nsj_data.extend(zoom_data_nsj)\n",
        "nsj_data.extend(distortion_data_nsj)\n",
        "nsj_data.extend(translate_data_nsj)\n",
        "nsj_data.extend(flip_dist_data_nsj)\n",
        "nsj_data.extend(rot_tran_nsj)\n",
        "len(nsj_data)"
      ],
      "metadata": {
        "colab": {
          "base_uri": "https://localhost:8080/"
        },
        "id": "S57lfoUQZPR3",
        "outputId": "cb1c7d13-edd5-4780-b3ea-3e73f8cdd4ff"
      },
      "execution_count": 12,
      "outputs": [
        {
          "output_type": "execute_result",
          "data": {
            "text/plain": [
              "1980"
            ]
          },
          "metadata": {},
          "execution_count": 12
        }
      ]
    },
    {
      "cell_type": "code",
      "source": [
        "labels1 = [0] * len(nsj_data)  # labels pour la première classe (0)\n",
        "labels2 = [1] * len(sj_data)  # labels pour la deuxième classe (1)\n",
        "\n",
        "# Fusionner les données et les labels en un seul tableau multidimensionnel\n",
        "data = np.concatenate([nsj_data, sj_data])\n",
        "print(len(data))\n",
        "labels = np.concatenate([labels1, labels2])\n",
        "len(labels)\n"
      ],
      "metadata": {
        "id": "xNn6XukhOUH_",
        "colab": {
          "base_uri": "https://localhost:8080/"
        },
        "outputId": "c62978fb-a36f-44ce-9241-f9607efc7890"
      },
      "execution_count": 13,
      "outputs": [
        {
          "output_type": "stream",
          "name": "stdout",
          "text": [
            "3935\n"
          ]
        },
        {
          "output_type": "execute_result",
          "data": {
            "text/plain": [
              "3935"
            ]
          },
          "metadata": {},
          "execution_count": 13
        }
      ]
    },
    {
      "cell_type": "code",
      "source": [
        "x_train, x_test, y_train, y_test = train_test_split(data, labels, test_size=0.2, random_state=42)\n",
        "# normaliser les données \n",
        "x_train = x_train.reshape(x_train.shape[0], 64,64, 1).astype('float32') / 255\n",
        "x_test = x_test.reshape(x_test.shape[0], 64,64, 1).astype('float32') / 255"
      ],
      "metadata": {
        "id": "BPbx9JnRhb-5"
      },
      "execution_count": 14,
      "outputs": []
    },
    {
      "cell_type": "markdown",
      "source": [
        "# cnn"
      ],
      "metadata": {
        "id": "cnZwESLVcFTz"
      }
    },
    {
      "cell_type": "code",
      "source": [
        "model = Sequential()\n",
        "model.add(Conv2D(32,(11,11),padding='same',activation='relu', input_shape = (64,64,1)))\n",
        "\n",
        "model.add(Conv2D(32, kernel_size = (7,7),padding='same',activation='relu'))\n",
        "model.add(MaxPooling2D((2, 2)))\n",
        "model.add(Conv2D(32,padding='same', kernel_size = (7,7),activation='relu'))\n",
        "model.add(MaxPooling2D((2, 2)))\n",
        "model.add(Flatten())\n",
        "model.add(Dense(128,activation='relu'))\n",
        "model.add(Dense(64,activation='relu'))\n",
        "model.add(Dense(32, activation='relu'))\n",
        "model.add(Dense(16, activation='relu'))\n",
        "model.add(Dense(1,activation='sigmoid'))\n",
        "\n",
        "print(model.summary())"
      ],
      "metadata": {
        "id": "3ituwceCj2T4",
        "colab": {
          "base_uri": "https://localhost:8080/"
        },
        "outputId": "e53ee277-77ff-4de0-89a6-885f3162ca9f"
      },
      "execution_count": 15,
      "outputs": [
        {
          "output_type": "stream",
          "name": "stdout",
          "text": [
            "Model: \"sequential\"\n",
            "_________________________________________________________________\n",
            " Layer (type)                Output Shape              Param #   \n",
            "=================================================================\n",
            " conv2d (Conv2D)             (None, 64, 64, 32)        3904      \n",
            "                                                                 \n",
            " conv2d_1 (Conv2D)           (None, 64, 64, 32)        50208     \n",
            "                                                                 \n",
            " max_pooling2d (MaxPooling2D  (None, 32, 32, 32)       0         \n",
            " )                                                               \n",
            "                                                                 \n",
            " conv2d_2 (Conv2D)           (None, 32, 32, 32)        50208     \n",
            "                                                                 \n",
            " max_pooling2d_1 (MaxPooling  (None, 16, 16, 32)       0         \n",
            " 2D)                                                             \n",
            "                                                                 \n",
            " flatten (Flatten)           (None, 8192)              0         \n",
            "                                                                 \n",
            " dense (Dense)               (None, 128)               1048704   \n",
            "                                                                 \n",
            " dense_1 (Dense)             (None, 64)                8256      \n",
            "                                                                 \n",
            " dense_2 (Dense)             (None, 32)                2080      \n",
            "                                                                 \n",
            " dense_3 (Dense)             (None, 16)                528       \n",
            "                                                                 \n",
            " dense_4 (Dense)             (None, 1)                 17        \n",
            "                                                                 \n",
            "=================================================================\n",
            "Total params: 1,163,905\n",
            "Trainable params: 1,163,905\n",
            "Non-trainable params: 0\n",
            "_________________________________________________________________\n",
            "None\n"
          ]
        }
      ]
    },
    {
      "cell_type": "code",
      "source": [
        "callback = tf.keras.callbacks.EarlyStopping(monitor='loss', patience=3)"
      ],
      "metadata": {
        "id": "hsR1IHrVkUss"
      },
      "execution_count": 16,
      "outputs": []
    },
    {
      "cell_type": "code",
      "source": [
        "model.compile(optimizer=Adam(learning_rate=0.0001),loss=tf.keras.losses.binary_crossentropy,\n",
        "              metrics=['accuracy',keras.metrics.Recall(),keras.metrics.Precision()])"
      ],
      "metadata": {
        "id": "Lqb0sKfhJSKC"
      },
      "execution_count": 17,
      "outputs": []
    },
    {
      "cell_type": "code",
      "source": [
        "H2 = model.fit(x_train, y_train, validation_data= (x_test, y_test), epochs=100, batch_size=32)"
      ],
      "metadata": {
        "id": "51I4yGCzbaID",
        "colab": {
          "base_uri": "https://localhost:8080/"
        },
        "outputId": "65c16ad8-fef1-4f34-afa2-57c373f4927b"
      },
      "execution_count": 18,
      "outputs": [
        {
          "output_type": "stream",
          "name": "stdout",
          "text": [
            "Epoch 1/100\n",
            "99/99 [==============================] - 15s 29ms/step - loss: 0.6607 - accuracy: 0.6010 - recall: 0.6863 - precision: 0.5840 - val_loss: 0.5996 - val_accuracy: 0.6938 - val_recall: 0.5590 - val_precision: 0.7596\n",
            "Epoch 2/100\n",
            "99/99 [==============================] - 2s 16ms/step - loss: 0.5945 - accuracy: 0.6852 - recall: 0.6396 - precision: 0.7010 - val_loss: 0.5600 - val_accuracy: 0.7027 - val_recall: 0.7795 - val_precision: 0.6726\n",
            "Epoch 3/100\n",
            "99/99 [==============================] - 2s 17ms/step - loss: 0.5449 - accuracy: 0.7274 - recall: 0.6895 - precision: 0.7436 - val_loss: 0.5179 - val_accuracy: 0.7382 - val_recall: 0.7282 - val_precision: 0.7396\n",
            "Epoch 4/100\n",
            "99/99 [==============================] - 2s 19ms/step - loss: 0.5171 - accuracy: 0.7376 - recall: 0.6946 - precision: 0.7575 - val_loss: 0.5029 - val_accuracy: 0.7535 - val_recall: 0.6359 - val_precision: 0.8267\n",
            "Epoch 5/100\n",
            "99/99 [==============================] - 2s 16ms/step - loss: 0.4938 - accuracy: 0.7576 - recall: 0.6952 - precision: 0.7918 - val_loss: 0.4607 - val_accuracy: 0.7700 - val_recall: 0.7051 - val_precision: 0.8065\n",
            "Epoch 6/100\n",
            "99/99 [==============================] - 2s 18ms/step - loss: 0.4483 - accuracy: 0.7891 - recall: 0.7323 - precision: 0.8239 - val_loss: 0.4700 - val_accuracy: 0.7903 - val_recall: 0.8795 - val_precision: 0.7440\n",
            "Epoch 7/100\n",
            "99/99 [==============================] - 2s 18ms/step - loss: 0.4212 - accuracy: 0.8030 - recall: 0.7578 - precision: 0.8311 - val_loss: 0.3855 - val_accuracy: 0.8513 - val_recall: 0.8077 - val_precision: 0.8824\n",
            "Epoch 8/100\n",
            "99/99 [==============================] - 2s 22ms/step - loss: 0.4012 - accuracy: 0.8104 - recall: 0.7712 - precision: 0.8347 - val_loss: 0.3748 - val_accuracy: 0.8501 - val_recall: 0.8436 - val_precision: 0.8523\n",
            "Epoch 9/100\n",
            "99/99 [==============================] - 2s 22ms/step - loss: 0.3219 - accuracy: 0.8640 - recall: 0.8358 - precision: 0.8844 - val_loss: 0.3117 - val_accuracy: 0.8717 - val_recall: 0.8231 - val_precision: 0.9093\n",
            "Epoch 10/100\n",
            "99/99 [==============================] - 2s 16ms/step - loss: 0.3097 - accuracy: 0.8631 - recall: 0.8300 - precision: 0.8873 - val_loss: 0.3932 - val_accuracy: 0.8119 - val_recall: 0.6359 - val_precision: 0.9764\n",
            "Epoch 11/100\n",
            "99/99 [==============================] - 2s 17ms/step - loss: 0.2566 - accuracy: 0.8939 - recall: 0.8671 - precision: 0.9150 - val_loss: 0.2593 - val_accuracy: 0.9022 - val_recall: 0.8641 - val_precision: 0.9335\n",
            "Epoch 12/100\n",
            "99/99 [==============================] - 2s 17ms/step - loss: 0.2286 - accuracy: 0.9126 - recall: 0.8914 - precision: 0.9300 - val_loss: 0.3713 - val_accuracy: 0.8259 - val_recall: 0.9718 - val_precision: 0.7505\n",
            "Epoch 13/100\n",
            "99/99 [==============================] - 2s 19ms/step - loss: 0.1963 - accuracy: 0.9263 - recall: 0.9067 - precision: 0.9429 - val_loss: 0.2340 - val_accuracy: 0.9136 - val_recall: 0.9487 - val_precision: 0.8852\n",
            "Epoch 14/100\n",
            "99/99 [==============================] - 2s 15ms/step - loss: 0.1722 - accuracy: 0.9396 - recall: 0.9214 - precision: 0.9556 - val_loss: 0.2356 - val_accuracy: 0.9047 - val_recall: 0.9436 - val_precision: 0.8741\n",
            "Epoch 15/100\n",
            "99/99 [==============================] - 2s 18ms/step - loss: 0.1557 - accuracy: 0.9463 - recall: 0.9342 - precision: 0.9568 - val_loss: 0.1833 - val_accuracy: 0.9327 - val_recall: 0.9308 - val_precision: 0.9332\n",
            "Epoch 16/100\n",
            "99/99 [==============================] - 2s 23ms/step - loss: 0.1354 - accuracy: 0.9514 - recall: 0.9374 - precision: 0.9639 - val_loss: 0.1988 - val_accuracy: 0.9212 - val_recall: 0.8513 - val_precision: 0.9881\n",
            "Epoch 17/100\n",
            "99/99 [==============================] - 2s 21ms/step - loss: 0.1080 - accuracy: 0.9670 - recall: 0.9578 - precision: 0.9753 - val_loss: 0.1540 - val_accuracy: 0.9441 - val_recall: 0.9333 - val_precision: 0.9529\n",
            "Epoch 18/100\n",
            "99/99 [==============================] - 2s 15ms/step - loss: 0.0997 - accuracy: 0.9663 - recall: 0.9527 - precision: 0.9790 - val_loss: 0.1464 - val_accuracy: 0.9428 - val_recall: 0.9026 - val_precision: 0.9805\n",
            "Epoch 19/100\n",
            "99/99 [==============================] - 2s 15ms/step - loss: 0.0871 - accuracy: 0.9743 - recall: 0.9623 - precision: 0.9856 - val_loss: 0.1464 - val_accuracy: 0.9555 - val_recall: 0.9667 - val_precision: 0.9449\n",
            "Epoch 20/100\n",
            "99/99 [==============================] - 2s 16ms/step - loss: 0.0666 - accuracy: 0.9790 - recall: 0.9681 - precision: 0.9895 - val_loss: 0.1617 - val_accuracy: 0.9428 - val_recall: 0.8974 - val_precision: 0.9859\n",
            "Epoch 21/100\n",
            "99/99 [==============================] - 2s 21ms/step - loss: 0.0544 - accuracy: 0.9844 - recall: 0.9776 - precision: 0.9909 - val_loss: 0.1103 - val_accuracy: 0.9657 - val_recall: 0.9590 - val_precision: 0.9714\n",
            "Epoch 22/100\n",
            "99/99 [==============================] - 2s 21ms/step - loss: 0.0485 - accuracy: 0.9857 - recall: 0.9789 - precision: 0.9922 - val_loss: 0.1315 - val_accuracy: 0.9530 - val_recall: 0.9128 - val_precision: 0.9916\n",
            "Epoch 23/100\n",
            "99/99 [==============================] - 2s 20ms/step - loss: 0.0346 - accuracy: 0.9908 - recall: 0.9834 - precision: 0.9981 - val_loss: 0.1007 - val_accuracy: 0.9682 - val_recall: 0.9667 - val_precision: 0.9692\n",
            "Epoch 24/100\n",
            "99/99 [==============================] - 2s 25ms/step - loss: 0.0322 - accuracy: 0.9902 - recall: 0.9827 - precision: 0.9974 - val_loss: 0.1078 - val_accuracy: 0.9657 - val_recall: 0.9744 - val_precision: 0.9572\n",
            "Epoch 25/100\n",
            "99/99 [==============================] - 2s 16ms/step - loss: 0.0306 - accuracy: 0.9902 - recall: 0.9853 - precision: 0.9948 - val_loss: 0.1099 - val_accuracy: 0.9581 - val_recall: 0.9333 - val_precision: 0.9811\n",
            "Epoch 26/100\n",
            "99/99 [==============================] - 2s 15ms/step - loss: 0.0303 - accuracy: 0.9889 - recall: 0.9834 - precision: 0.9942 - val_loss: 0.1833 - val_accuracy: 0.9301 - val_recall: 0.9667 - val_precision: 0.8998\n",
            "Epoch 27/100\n",
            "99/99 [==============================] - 2s 16ms/step - loss: 0.0241 - accuracy: 0.9927 - recall: 0.9898 - precision: 0.9955 - val_loss: 0.0950 - val_accuracy: 0.9708 - val_recall: 0.9821 - val_precision: 0.9599\n",
            "Epoch 28/100\n",
            "99/99 [==============================] - 2s 16ms/step - loss: 0.0124 - accuracy: 0.9978 - recall: 0.9962 - precision: 0.9994 - val_loss: 0.0879 - val_accuracy: 0.9708 - val_recall: 0.9615 - val_precision: 0.9791\n",
            "Epoch 29/100\n",
            "99/99 [==============================] - 2s 16ms/step - loss: 0.0153 - accuracy: 0.9968 - recall: 0.9955 - precision: 0.9981 - val_loss: 0.0799 - val_accuracy: 0.9797 - val_recall: 0.9744 - val_precision: 0.9845\n",
            "Epoch 30/100\n",
            "99/99 [==============================] - 2s 15ms/step - loss: 0.0412 - accuracy: 0.9848 - recall: 0.9808 - precision: 0.9884 - val_loss: 0.2428 - val_accuracy: 0.9123 - val_recall: 0.9641 - val_precision: 0.8724\n",
            "Epoch 31/100\n",
            "99/99 [==============================] - 2s 17ms/step - loss: 0.0288 - accuracy: 0.9917 - recall: 0.9904 - precision: 0.9930 - val_loss: 0.1063 - val_accuracy: 0.9619 - val_recall: 0.9359 - val_precision: 0.9865\n",
            "Epoch 32/100\n",
            "99/99 [==============================] - 2s 17ms/step - loss: 0.0182 - accuracy: 0.9952 - recall: 0.9942 - precision: 0.9962 - val_loss: 0.0969 - val_accuracy: 0.9657 - val_recall: 0.9487 - val_precision: 0.9814\n",
            "Epoch 33/100\n",
            "99/99 [==============================] - 2s 16ms/step - loss: 0.0057 - accuracy: 0.9997 - recall: 0.9994 - precision: 1.0000 - val_loss: 0.0765 - val_accuracy: 0.9784 - val_recall: 0.9744 - val_precision: 0.9819\n",
            "Epoch 34/100\n",
            "99/99 [==============================] - 2s 16ms/step - loss: 0.0027 - accuracy: 0.9997 - recall: 0.9994 - precision: 1.0000 - val_loss: 0.0750 - val_accuracy: 0.9759 - val_recall: 0.9769 - val_precision: 0.9744\n",
            "Epoch 35/100\n",
            "99/99 [==============================] - 2s 16ms/step - loss: 0.0019 - accuracy: 1.0000 - recall: 1.0000 - precision: 1.0000 - val_loss: 0.0787 - val_accuracy: 0.9784 - val_recall: 0.9769 - val_precision: 0.9794\n",
            "Epoch 36/100\n",
            "99/99 [==============================] - 2s 16ms/step - loss: 0.0014 - accuracy: 1.0000 - recall: 1.0000 - precision: 1.0000 - val_loss: 0.0819 - val_accuracy: 0.9771 - val_recall: 0.9744 - val_precision: 0.9794\n",
            "Epoch 37/100\n",
            "99/99 [==============================] - 2s 19ms/step - loss: 0.0011 - accuracy: 1.0000 - recall: 1.0000 - precision: 1.0000 - val_loss: 0.0814 - val_accuracy: 0.9771 - val_recall: 0.9769 - val_precision: 0.9769\n",
            "Epoch 38/100\n",
            "99/99 [==============================] - 2s 16ms/step - loss: 8.9667e-04 - accuracy: 1.0000 - recall: 1.0000 - precision: 1.0000 - val_loss: 0.0836 - val_accuracy: 0.9784 - val_recall: 0.9769 - val_precision: 0.9794\n",
            "Epoch 39/100\n",
            "99/99 [==============================] - 2s 18ms/step - loss: 7.6191e-04 - accuracy: 1.0000 - recall: 1.0000 - precision: 1.0000 - val_loss: 0.0844 - val_accuracy: 0.9771 - val_recall: 0.9769 - val_precision: 0.9769\n",
            "Epoch 40/100\n",
            "99/99 [==============================] - 2s 17ms/step - loss: 6.4740e-04 - accuracy: 1.0000 - recall: 1.0000 - precision: 1.0000 - val_loss: 0.0856 - val_accuracy: 0.9797 - val_recall: 0.9795 - val_precision: 0.9795\n",
            "Epoch 41/100\n",
            "99/99 [==============================] - 2s 16ms/step - loss: 6.0874e-04 - accuracy: 1.0000 - recall: 1.0000 - precision: 1.0000 - val_loss: 0.0859 - val_accuracy: 0.9771 - val_recall: 0.9769 - val_precision: 0.9769\n",
            "Epoch 42/100\n",
            "99/99 [==============================] - 2s 16ms/step - loss: 5.1468e-04 - accuracy: 1.0000 - recall: 1.0000 - precision: 1.0000 - val_loss: 0.0864 - val_accuracy: 0.9771 - val_recall: 0.9769 - val_precision: 0.9769\n",
            "Epoch 43/100\n",
            "99/99 [==============================] - 2s 16ms/step - loss: 4.7249e-04 - accuracy: 1.0000 - recall: 1.0000 - precision: 1.0000 - val_loss: 0.0867 - val_accuracy: 0.9784 - val_recall: 0.9769 - val_precision: 0.9794\n",
            "Epoch 44/100\n",
            "99/99 [==============================] - 2s 16ms/step - loss: 3.9540e-04 - accuracy: 1.0000 - recall: 1.0000 - precision: 1.0000 - val_loss: 0.0872 - val_accuracy: 0.9784 - val_recall: 0.9769 - val_precision: 0.9794\n",
            "Epoch 45/100\n",
            "99/99 [==============================] - 2s 16ms/step - loss: 3.7099e-04 - accuracy: 1.0000 - recall: 1.0000 - precision: 1.0000 - val_loss: 0.0881 - val_accuracy: 0.9784 - val_recall: 0.9769 - val_precision: 0.9794\n",
            "Epoch 46/100\n",
            "99/99 [==============================] - 2s 16ms/step - loss: 3.3795e-04 - accuracy: 1.0000 - recall: 1.0000 - precision: 1.0000 - val_loss: 0.0880 - val_accuracy: 0.9784 - val_recall: 0.9769 - val_precision: 0.9794\n",
            "Epoch 47/100\n",
            "99/99 [==============================] - 2s 16ms/step - loss: 3.4087e-04 - accuracy: 1.0000 - recall: 1.0000 - precision: 1.0000 - val_loss: 0.0905 - val_accuracy: 0.9771 - val_recall: 0.9769 - val_precision: 0.9769\n",
            "Epoch 48/100\n",
            "99/99 [==============================] - 2s 19ms/step - loss: 2.7713e-04 - accuracy: 1.0000 - recall: 1.0000 - precision: 1.0000 - val_loss: 0.0898 - val_accuracy: 0.9784 - val_recall: 0.9769 - val_precision: 0.9794\n",
            "Epoch 49/100\n",
            "99/99 [==============================] - 2s 17ms/step - loss: 2.5770e-04 - accuracy: 1.0000 - recall: 1.0000 - precision: 1.0000 - val_loss: 0.0911 - val_accuracy: 0.9797 - val_recall: 0.9795 - val_precision: 0.9795\n",
            "Epoch 50/100\n",
            "99/99 [==============================] - 2s 16ms/step - loss: 2.4654e-04 - accuracy: 1.0000 - recall: 1.0000 - precision: 1.0000 - val_loss: 0.0913 - val_accuracy: 0.9784 - val_recall: 0.9769 - val_precision: 0.9794\n",
            "Epoch 51/100\n",
            "99/99 [==============================] - 2s 16ms/step - loss: 2.1151e-04 - accuracy: 1.0000 - recall: 1.0000 - precision: 1.0000 - val_loss: 0.0909 - val_accuracy: 0.9784 - val_recall: 0.9769 - val_precision: 0.9794\n",
            "Epoch 52/100\n",
            "99/99 [==============================] - 2s 16ms/step - loss: 2.0136e-04 - accuracy: 1.0000 - recall: 1.0000 - precision: 1.0000 - val_loss: 0.0918 - val_accuracy: 0.9797 - val_recall: 0.9795 - val_precision: 0.9795\n",
            "Epoch 53/100\n",
            "99/99 [==============================] - 2s 16ms/step - loss: 1.8410e-04 - accuracy: 1.0000 - recall: 1.0000 - precision: 1.0000 - val_loss: 0.0920 - val_accuracy: 0.9797 - val_recall: 0.9795 - val_precision: 0.9795\n",
            "Epoch 54/100\n",
            "99/99 [==============================] - 2s 16ms/step - loss: 1.6497e-04 - accuracy: 1.0000 - recall: 1.0000 - precision: 1.0000 - val_loss: 0.0932 - val_accuracy: 0.9797 - val_recall: 0.9769 - val_precision: 0.9820\n",
            "Epoch 55/100\n",
            "99/99 [==============================] - 2s 16ms/step - loss: 1.4893e-04 - accuracy: 1.0000 - recall: 1.0000 - precision: 1.0000 - val_loss: 0.0926 - val_accuracy: 0.9797 - val_recall: 0.9795 - val_precision: 0.9795\n",
            "Epoch 56/100\n",
            "99/99 [==============================] - 2s 17ms/step - loss: 1.4579e-04 - accuracy: 1.0000 - recall: 1.0000 - precision: 1.0000 - val_loss: 0.0943 - val_accuracy: 0.9784 - val_recall: 0.9769 - val_precision: 0.9794\n",
            "Epoch 57/100\n",
            "99/99 [==============================] - 2s 17ms/step - loss: 1.2898e-04 - accuracy: 1.0000 - recall: 1.0000 - precision: 1.0000 - val_loss: 0.0956 - val_accuracy: 0.9784 - val_recall: 0.9769 - val_precision: 0.9794\n",
            "Epoch 58/100\n",
            "99/99 [==============================] - 2s 17ms/step - loss: 1.2039e-04 - accuracy: 1.0000 - recall: 1.0000 - precision: 1.0000 - val_loss: 0.0957 - val_accuracy: 0.9784 - val_recall: 0.9744 - val_precision: 0.9819\n",
            "Epoch 59/100\n",
            "99/99 [==============================] - 2s 16ms/step - loss: 1.1097e-04 - accuracy: 1.0000 - recall: 1.0000 - precision: 1.0000 - val_loss: 0.0954 - val_accuracy: 0.9784 - val_recall: 0.9744 - val_precision: 0.9819\n",
            "Epoch 60/100\n",
            "99/99 [==============================] - 2s 16ms/step - loss: 1.0319e-04 - accuracy: 1.0000 - recall: 1.0000 - precision: 1.0000 - val_loss: 0.0965 - val_accuracy: 0.9784 - val_recall: 0.9744 - val_precision: 0.9819\n",
            "Epoch 61/100\n",
            "99/99 [==============================] - 2s 16ms/step - loss: 9.8280e-05 - accuracy: 1.0000 - recall: 1.0000 - precision: 1.0000 - val_loss: 0.0967 - val_accuracy: 0.9797 - val_recall: 0.9769 - val_precision: 0.9820\n",
            "Epoch 62/100\n",
            "99/99 [==============================] - 2s 18ms/step - loss: 9.0396e-05 - accuracy: 1.0000 - recall: 1.0000 - precision: 1.0000 - val_loss: 0.0972 - val_accuracy: 0.9784 - val_recall: 0.9744 - val_precision: 0.9819\n",
            "Epoch 63/100\n",
            "99/99 [==============================] - 2s 19ms/step - loss: 8.3445e-05 - accuracy: 1.0000 - recall: 1.0000 - precision: 1.0000 - val_loss: 0.0968 - val_accuracy: 0.9784 - val_recall: 0.9744 - val_precision: 0.9819\n",
            "Epoch 64/100\n",
            "99/99 [==============================] - 2s 17ms/step - loss: 7.6242e-05 - accuracy: 1.0000 - recall: 1.0000 - precision: 1.0000 - val_loss: 0.0983 - val_accuracy: 0.9784 - val_recall: 0.9744 - val_precision: 0.9819\n",
            "Epoch 65/100\n",
            "99/99 [==============================] - 2s 17ms/step - loss: 7.2652e-05 - accuracy: 1.0000 - recall: 1.0000 - precision: 1.0000 - val_loss: 0.0999 - val_accuracy: 0.9797 - val_recall: 0.9769 - val_precision: 0.9820\n",
            "Epoch 66/100\n",
            "99/99 [==============================] - 2s 16ms/step - loss: 6.8147e-05 - accuracy: 1.0000 - recall: 1.0000 - precision: 1.0000 - val_loss: 0.0986 - val_accuracy: 0.9784 - val_recall: 0.9744 - val_precision: 0.9819\n",
            "Epoch 67/100\n",
            "99/99 [==============================] - 2s 19ms/step - loss: 6.6748e-05 - accuracy: 1.0000 - recall: 1.0000 - precision: 1.0000 - val_loss: 0.0982 - val_accuracy: 0.9797 - val_recall: 0.9769 - val_precision: 0.9820\n",
            "Epoch 68/100\n",
            "99/99 [==============================] - 2s 16ms/step - loss: 5.6831e-05 - accuracy: 1.0000 - recall: 1.0000 - precision: 1.0000 - val_loss: 0.1000 - val_accuracy: 0.9784 - val_recall: 0.9744 - val_precision: 0.9819\n",
            "Epoch 69/100\n",
            "99/99 [==============================] - 2s 16ms/step - loss: 5.9525e-05 - accuracy: 1.0000 - recall: 1.0000 - precision: 1.0000 - val_loss: 0.1012 - val_accuracy: 0.9784 - val_recall: 0.9744 - val_precision: 0.9819\n",
            "Epoch 70/100\n",
            "99/99 [==============================] - 2s 16ms/step - loss: 5.2857e-05 - accuracy: 1.0000 - recall: 1.0000 - precision: 1.0000 - val_loss: 0.1013 - val_accuracy: 0.9797 - val_recall: 0.9769 - val_precision: 0.9820\n",
            "Epoch 71/100\n",
            "99/99 [==============================] - 2s 16ms/step - loss: 4.9302e-05 - accuracy: 1.0000 - recall: 1.0000 - precision: 1.0000 - val_loss: 0.1002 - val_accuracy: 0.9784 - val_recall: 0.9744 - val_precision: 0.9819\n",
            "Epoch 72/100\n",
            "99/99 [==============================] - 2s 16ms/step - loss: 4.3722e-05 - accuracy: 1.0000 - recall: 1.0000 - precision: 1.0000 - val_loss: 0.1028 - val_accuracy: 0.9784 - val_recall: 0.9744 - val_precision: 0.9819\n",
            "Epoch 73/100\n",
            "99/99 [==============================] - 2s 17ms/step - loss: 4.2759e-05 - accuracy: 1.0000 - recall: 1.0000 - precision: 1.0000 - val_loss: 0.1031 - val_accuracy: 0.9771 - val_recall: 0.9718 - val_precision: 0.9819\n",
            "Epoch 74/100\n",
            "99/99 [==============================] - 2s 17ms/step - loss: 4.0106e-05 - accuracy: 1.0000 - recall: 1.0000 - precision: 1.0000 - val_loss: 0.1045 - val_accuracy: 0.9784 - val_recall: 0.9744 - val_precision: 0.9819\n",
            "Epoch 75/100\n",
            "99/99 [==============================] - 2s 16ms/step - loss: 4.0826e-05 - accuracy: 1.0000 - recall: 1.0000 - precision: 1.0000 - val_loss: 0.1037 - val_accuracy: 0.9797 - val_recall: 0.9769 - val_precision: 0.9820\n",
            "Epoch 76/100\n",
            "99/99 [==============================] - 2s 16ms/step - loss: 3.4848e-05 - accuracy: 1.0000 - recall: 1.0000 - precision: 1.0000 - val_loss: 0.1037 - val_accuracy: 0.9797 - val_recall: 0.9769 - val_precision: 0.9820\n",
            "Epoch 77/100\n",
            "99/99 [==============================] - 2s 16ms/step - loss: 3.2537e-05 - accuracy: 1.0000 - recall: 1.0000 - precision: 1.0000 - val_loss: 0.1039 - val_accuracy: 0.9797 - val_recall: 0.9769 - val_precision: 0.9820\n",
            "Epoch 78/100\n",
            "99/99 [==============================] - 2s 16ms/step - loss: 2.9776e-05 - accuracy: 1.0000 - recall: 1.0000 - precision: 1.0000 - val_loss: 0.1044 - val_accuracy: 0.9784 - val_recall: 0.9744 - val_precision: 0.9819\n",
            "Epoch 79/100\n",
            "99/99 [==============================] - 2s 16ms/step - loss: 2.7399e-05 - accuracy: 1.0000 - recall: 1.0000 - precision: 1.0000 - val_loss: 0.1043 - val_accuracy: 0.9797 - val_recall: 0.9769 - val_precision: 0.9820\n",
            "Epoch 80/100\n",
            "99/99 [==============================] - 2s 16ms/step - loss: 2.7862e-05 - accuracy: 1.0000 - recall: 1.0000 - precision: 1.0000 - val_loss: 0.1053 - val_accuracy: 0.9784 - val_recall: 0.9744 - val_precision: 0.9819\n",
            "Epoch 81/100\n",
            "99/99 [==============================] - 2s 17ms/step - loss: 2.5477e-05 - accuracy: 1.0000 - recall: 1.0000 - precision: 1.0000 - val_loss: 0.1060 - val_accuracy: 0.9784 - val_recall: 0.9744 - val_precision: 0.9819\n",
            "Epoch 82/100\n",
            "99/99 [==============================] - 2s 17ms/step - loss: 2.4141e-05 - accuracy: 1.0000 - recall: 1.0000 - precision: 1.0000 - val_loss: 0.1059 - val_accuracy: 0.9784 - val_recall: 0.9744 - val_precision: 0.9819\n",
            "Epoch 83/100\n",
            "99/99 [==============================] - 2s 17ms/step - loss: 2.2279e-05 - accuracy: 1.0000 - recall: 1.0000 - precision: 1.0000 - val_loss: 0.1073 - val_accuracy: 0.9784 - val_recall: 0.9769 - val_precision: 0.9794\n",
            "Epoch 84/100\n",
            "99/99 [==============================] - 2s 16ms/step - loss: 2.1502e-05 - accuracy: 1.0000 - recall: 1.0000 - precision: 1.0000 - val_loss: 0.1063 - val_accuracy: 0.9784 - val_recall: 0.9744 - val_precision: 0.9819\n",
            "Epoch 85/100\n",
            "99/99 [==============================] - 2s 16ms/step - loss: 1.9556e-05 - accuracy: 1.0000 - recall: 1.0000 - precision: 1.0000 - val_loss: 0.1077 - val_accuracy: 0.9797 - val_recall: 0.9769 - val_precision: 0.9820\n",
            "Epoch 86/100\n",
            "99/99 [==============================] - 2s 16ms/step - loss: 1.8320e-05 - accuracy: 1.0000 - recall: 1.0000 - precision: 1.0000 - val_loss: 0.1121 - val_accuracy: 0.9784 - val_recall: 0.9769 - val_precision: 0.9794\n",
            "Epoch 87/100\n",
            "99/99 [==============================] - 2s 16ms/step - loss: 1.6813e-05 - accuracy: 1.0000 - recall: 1.0000 - precision: 1.0000 - val_loss: 0.1083 - val_accuracy: 0.9797 - val_recall: 0.9769 - val_precision: 0.9820\n",
            "Epoch 88/100\n",
            "99/99 [==============================] - 2s 16ms/step - loss: 1.5199e-05 - accuracy: 1.0000 - recall: 1.0000 - precision: 1.0000 - val_loss: 0.1090 - val_accuracy: 0.9797 - val_recall: 0.9769 - val_precision: 0.9820\n",
            "Epoch 89/100\n",
            "99/99 [==============================] - 2s 16ms/step - loss: 1.4726e-05 - accuracy: 1.0000 - recall: 1.0000 - precision: 1.0000 - val_loss: 0.1095 - val_accuracy: 0.9797 - val_recall: 0.9769 - val_precision: 0.9820\n",
            "Epoch 90/100\n",
            "99/99 [==============================] - 2s 18ms/step - loss: 1.3537e-05 - accuracy: 1.0000 - recall: 1.0000 - precision: 1.0000 - val_loss: 0.1096 - val_accuracy: 0.9771 - val_recall: 0.9744 - val_precision: 0.9794\n",
            "Epoch 91/100\n",
            "99/99 [==============================] - 2s 17ms/step - loss: 1.2547e-05 - accuracy: 1.0000 - recall: 1.0000 - precision: 1.0000 - val_loss: 0.1098 - val_accuracy: 0.9797 - val_recall: 0.9769 - val_precision: 0.9820\n",
            "Epoch 92/100\n",
            "99/99 [==============================] - 2s 16ms/step - loss: 1.2054e-05 - accuracy: 1.0000 - recall: 1.0000 - precision: 1.0000 - val_loss: 0.1110 - val_accuracy: 0.9784 - val_recall: 0.9744 - val_precision: 0.9819\n",
            "Epoch 93/100\n",
            "99/99 [==============================] - 2s 16ms/step - loss: 1.1210e-05 - accuracy: 1.0000 - recall: 1.0000 - precision: 1.0000 - val_loss: 0.1110 - val_accuracy: 0.9784 - val_recall: 0.9744 - val_precision: 0.9819\n",
            "Epoch 94/100\n",
            "99/99 [==============================] - 2s 16ms/step - loss: 1.0486e-05 - accuracy: 1.0000 - recall: 1.0000 - precision: 1.0000 - val_loss: 0.1115 - val_accuracy: 0.9797 - val_recall: 0.9769 - val_precision: 0.9820\n",
            "Epoch 95/100\n",
            "99/99 [==============================] - 2s 16ms/step - loss: 9.8739e-06 - accuracy: 1.0000 - recall: 1.0000 - precision: 1.0000 - val_loss: 0.1123 - val_accuracy: 0.9809 - val_recall: 0.9795 - val_precision: 0.9820\n",
            "Epoch 96/100\n",
            "99/99 [==============================] - 2s 16ms/step - loss: 9.9543e-06 - accuracy: 1.0000 - recall: 1.0000 - precision: 1.0000 - val_loss: 0.1128 - val_accuracy: 0.9784 - val_recall: 0.9769 - val_precision: 0.9794\n",
            "Epoch 97/100\n",
            "99/99 [==============================] - 2s 16ms/step - loss: 8.8497e-06 - accuracy: 1.0000 - recall: 1.0000 - precision: 1.0000 - val_loss: 0.1124 - val_accuracy: 0.9784 - val_recall: 0.9744 - val_precision: 0.9819\n",
            "Epoch 98/100\n",
            "99/99 [==============================] - 2s 17ms/step - loss: 8.3106e-06 - accuracy: 1.0000 - recall: 1.0000 - precision: 1.0000 - val_loss: 0.1130 - val_accuracy: 0.9784 - val_recall: 0.9744 - val_precision: 0.9819\n",
            "Epoch 99/100\n",
            "99/99 [==============================] - 2s 18ms/step - loss: 7.6455e-06 - accuracy: 1.0000 - recall: 1.0000 - precision: 1.0000 - val_loss: 0.1145 - val_accuracy: 0.9797 - val_recall: 0.9769 - val_precision: 0.9820\n",
            "Epoch 100/100\n",
            "99/99 [==============================] - 2s 16ms/step - loss: 7.2365e-06 - accuracy: 1.0000 - recall: 1.0000 - precision: 1.0000 - val_loss: 0.1153 - val_accuracy: 0.9784 - val_recall: 0.9744 - val_precision: 0.9819\n"
          ]
        }
      ]
    },
    {
      "cell_type": "markdown",
      "source": [
        "## Matrice de confusion de train\n"
      ],
      "metadata": {
        "id": "sR4VRQh8ACeP"
      }
    },
    {
      "cell_type": "code",
      "source": [
        "from sklearn.metrics import confusion_matrix\n",
        "import seaborn as sns\n",
        "# Générer des prédictions sur l'ensemble de test\n",
        "y_pred = model.predict(x_test)\n",
        "y_pred_classes = np.where(y_pred>0.5,1.,0)\n",
        "\n",
        "# Calculer la matrice de confusion\n",
        "cm = confusion_matrix(y_true=y_test, y_pred=y_pred_classes)\n",
        "f,ax = plt.subplots(figsize=(5,5))\n",
        "sns.heatmap(cm, annot=True, linewidths=0.01,cmap=\"Greens\",linecolor=\"gray\", fmt= '.1f',ax=ax)\n",
        "plt.xlabel(\"Predicted Label\")\n",
        "plt.ylabel(\"True Label\")\n",
        "plt.title(\"Confusion Matrix\")\n",
        "plt.show()\n",
        "print(cm)"
      ],
      "metadata": {
        "id": "HB1bWIBNNkAY",
        "colab": {
          "base_uri": "https://localhost:8080/",
          "height": 541
        },
        "outputId": "ed2bc2f4-58e5-4676-8d21-82ff8c9e6328"
      },
      "execution_count": 19,
      "outputs": [
        {
          "output_type": "stream",
          "name": "stdout",
          "text": [
            "25/25 [==============================] - 0s 5ms/step\n"
          ]
        },
        {
          "output_type": "display_data",
          "data": {
            "text/plain": [
              "<Figure size 500x500 with 2 Axes>"
            ],
            "image/png": "[encoded data removed]"
          },
          "metadata": {}
        },
        {
          "output_type": "stream",
          "name": "stdout",
          "text": [
            "[[390   7]\n",
            " [ 10 380]]\n"
          ]
        }
      ]
    },
    {
      "cell_type": "code",
      "source": [
        "print(classification_report(y_test, y_pred_classes))"
      ],
      "metadata": {
        "colab": {
          "base_uri": "https://localhost:8080/"
        },
        "id": "7A9pkFYdLbqH",
        "outputId": "6cac5c9a-ac3e-4aa7-fe55-c3734021c290"
      },
      "execution_count": null,
      "outputs": [
        {
          "output_type": "stream",
          "name": "stdout",
          "text": [
            "              precision    recall  f1-score   support\n",
            "\n",
            "           0       0.97      0.98      0.98       397\n",
            "           1       0.98      0.97      0.98       390\n",
            "\n",
            "    accuracy                           0.98       787\n",
            "   macro avg       0.98      0.98      0.98       787\n",
            "weighted avg       0.98      0.98      0.98       787\n",
            "\n"
          ]
        }
      ]
    },
    {
      "cell_type": "code",
      "source": [
        "#loss\n",
        "plt.plot(H2.history['loss'])\n",
        "plt.plot(H2.history['val_loss'])\n",
        "plt.title('model loss')\n",
        "plt.ylabel('loss')\n",
        "plt.xlabel('epoch')\n",
        "plt.legend(['train', 'test'], loc='upper left')\n",
        "plt.show()"
      ],
      "metadata": {
        "colab": {
          "base_uri": "https://localhost:8080/",
          "height": 472
        },
        "id": "TAKglaHoLoqL",
        "outputId": "1519bfed-bef6-4cda-b423-fac3d90e37b7"
      },
      "execution_count": null,
      "outputs": [
        {
          "output_type": "display_data",
          "data": {
            "text/plain": [
              "<Figure size 640x480 with 1 Axes>"
            ],
            "image/png": "[encoded data removed]"
          },
          "metadata": {}
        }
      ]
    },
    {
      "cell_type": "markdown",
      "source": [
        "## Matrice de confusion de test\n"
      ],
      "metadata": {
        "id": "RWe4Kk1EnvSV"
      }
    },
    {
      "cell_type": "code",
      "source": [
        "# diviser la base en 2\n",
        "nsj_org_data=nsj_original\n",
        "sj_org_data=sj_original\n",
        "label_nsj = [0] * len(nsj_org_data)  # labels pour la première classe (0)\n",
        "label_sj = [1] * len(sj_org_data)  # labels pour la deuxième classe (1)\n",
        "# Fusionner les données et les labels en un seul tableau multidimensionnel\n",
        "data2 = np.concatenate([nsj_org_data, sj_org_data])\n",
        "print(len(data2))\n",
        "labels2 = np.concatenate([label_nsj, label_sj])\n",
        "len(labels2)\n",
        "\n",
        "\n"
      ],
      "metadata": {
        "colab": {
          "base_uri": "https://localhost:8080/"
        },
        "id": "gudZwiWNnuLR",
        "outputId": "ab2f56ff-f7f4-4e8e-d464-2de8138a445d"
      },
      "execution_count": 20,
      "outputs": [
        {
          "output_type": "stream",
          "name": "stdout",
          "text": [
            "225\n"
          ]
        },
        {
          "output_type": "execute_result",
          "data": {
            "text/plain": [
              "225"
            ]
          },
          "metadata": {},
          "execution_count": 20
        }
      ]
    },
    {
      "cell_type": "code",
      "source": [
        "x_train2, x_test2, y_train2, y_test2 = train_test_split(data2, labels2, test_size=0.2, random_state=42)\n",
        "# normaliser les données \n",
        "x_train2 = x_train2.reshape(x_train2.shape[0], 64,64, 1).astype('float32') / 255\n",
        "x_test2= x_test2.reshape(x_test2.shape[0], 64,64, 1).astype('float32') / 255\n"
      ],
      "metadata": {
        "id": "81bDrv1FCx7f"
      },
      "execution_count": 23,
      "outputs": []
    },
    {
      "cell_type": "code",
      "source": [
        "y_pred = model.predict(x_test2)\n",
        "y_pred_classes = np.where(y_pred>0.5,1.,0)\n",
        "\n",
        "# Calculer la matrice de confusion\n",
        "cm = confusion_matrix(y_true=y_test2, y_pred=y_pred_classes)\n",
        "f,ax = plt.subplots(figsize=(5,5))\n",
        "sns.heatmap(cm, annot=True, linewidths=0.01,cmap=\"Greens\",linecolor=\"gray\", fmt= '.1f',ax=ax)\n",
        "plt.xlabel(\"Predicted Label\")\n",
        "plt.ylabel(\"True Label\")\n",
        "plt.title(\"Confusion Matrix\")\n",
        "plt.show()\n",
        "print(cm)"
      ],
      "metadata": {
        "colab": {
          "base_uri": "https://localhost:8080/",
          "height": 541
        },
        "id": "ulsgg8Dgo0Ct",
        "outputId": "2ab9c725-b159-40e7-e9ca-69833b5fe648"
      },
      "execution_count": 24,
      "outputs": [
        {
          "output_type": "stream",
          "name": "stdout",
          "text": [
            "2/2 [==============================] - 0s 6ms/step\n"
          ]
        },
        {
          "output_type": "display_data",
          "data": {
            "text/plain": [
              "<Figure size 500x500 with 2 Axes>"
            ],
            "image/png": "[encoded data removed]"
          },
          "metadata": {}
        },
        {
          "output_type": "stream",
          "name": "stdout",
          "text": [
            "[[16  0]\n",
            " [ 0 29]]\n"
          ]
        }
      ]
    },
    {
      "cell_type": "code",
      "source": [
        "print(classification_report(y_test2, y_pred_classes))"
      ],
      "metadata": {
        "colab": {
          "base_uri": "https://localhost:8080/"
        },
        "id": "5nm60uQOo7EJ",
        "outputId": "b573f898-53a6-4969-daf3-cb44acc66a77"
      },
      "execution_count": 28,
      "outputs": [
        {
          "output_type": "stream",
          "name": "stdout",
          "text": [
            "              precision    recall  f1-score   support\n",
            "\n",
            "           0       1.00      1.00      1.00        16\n",
            "           1       1.00      1.00      1.00        29\n",
            "\n",
            "    accuracy                           1.00        45\n",
            "   macro avg       1.00      1.00      1.00        45\n",
            "weighted avg       1.00      1.00      1.00        45\n",
            "\n"
          ]
        }
      ]
    },
    {
      "cell_type": "markdown",
      "source": [
        "# cross validation"
      ],
      "metadata": {
        "id": "n4ihsFlBprke"
      }
    },
    {
      "cell_type": "code",
      "source": [
        "# définir la fonction pour créer le modèle\n",
        "def create_model():\n",
        "    model3 = Sequential()\n",
        "    model3.add(Conv2D(32,(11,11),padding='same',activation='relu', input_shape = (64,64,1)))\n",
        "    model3.add(Conv2D(32, kernel_size = (7,7),padding='same',activation='relu'))\n",
        "    model3.add(MaxPooling2D((2, 2)))\n",
        "    model3.add(Conv2D(32,padding='same', kernel_size = (7,7),activation='relu'))\n",
        "    model3.add(MaxPooling2D((2, 2)))\n",
        "    model3.add(Flatten())\n",
        "    model3.add(Dense(128,activation='relu'))\n",
        "    model3.add(Dense(64,activation='relu'))\n",
        "    model3.add(Dense(32, activation='relu'))\n",
        "    model3.add(Dense(16, activation='relu'))\n",
        "    model3.add(Dense(1,activation='sigmoid'))\n",
        "    model3.compile(optimizer='adam',\n",
        "                  loss=tf.keras.losses.binary_crossentropy,\n",
        "                  metrics=['accuracy',keras.metrics.Precision(),keras.metrics.Recall()])\n",
        "    return model3\n",
        "\n",
        "# créer le classifieur Keras\n",
        "model4 = KerasClassifier(build_fn=create_model, epochs=100, batch_size=32, verbose=0)\n",
        "\n",
        "# effectuer la validation croisée\n",
        "scores = cross_val_score(model4,x_train,y_train, cv=7)\n",
        "\n",
        "# afficher les résultats de la validation croisée\n",
        "print(\"Accuracy: %0.2f (+/- %0.2f)\" % (scores.mean(), scores.std() * 2))"
      ],
      "metadata": {
        "colab": {
          "base_uri": "https://localhost:8080/"
        },
        "id": "yr1O84HCpUvZ",
        "outputId": "d9fc646f-92e4-4406-bd22-c5fcf39db70c"
      },
      "execution_count": 32,
      "outputs": [
        {
          "output_type": "stream",
          "name": "stderr",
          "text": [
            "<ipython-input-32-c2f6de107372>:21: DeprecationWarning: KerasClassifier is deprecated, use Sci-Keras (https://github.com/adriangb/scikeras) instead. See https://www.adriangb.com/scikeras/stable/migration.html for help migrating.\n",
            "  model4 = KerasClassifier(build_fn=create_model, epochs=100, batch_size=32, verbose=0)\n"
          ]
        },
        {
          "output_type": "stream",
          "name": "stdout",
          "text": [
            "Accuracy: 0.96 (+/- 0.01)\n"
          ]
        }
      ]
    },
    {
      "cell_type": "code",
      "source": [
        "from sklearn.model_selection import cross_val_score, cross_val_predict\n",
        "from sklearn.metrics import precision_recall_curve"
      ],
      "metadata": {
        "id": "PPtw4PIEtx4H"
      },
      "execution_count": 33,
      "outputs": []
    },
    {
      "cell_type": "code",
      "source": [
        "# effectuer la prédiction de probabilité pour chaque exemple dans chaque fold\n",
        "y_proba = cross_val_predict(model4, x_train, y_train, cv=7, method='predict_proba')\n",
        "# calculer la précision et le rappel pour chaque fold\n",
        "precisions, recalls, thresholds = precision_recall_curve(y_train, y_proba[:, 1])\n",
        "\n",
        "print(\"Precision: %0.2f (+/- %0.2f)\" % (precisions.mean(), precisions.std() * 2))\n",
        "print(\"Recall: %0.2f (+/- %0.2f)\" % (recalls.mean(), recalls.std() * 2))"
      ],
      "metadata": {
        "colab": {
          "base_uri": "https://localhost:8080/"
        },
        "id": "kuUwjtmus43y",
        "outputId": "43b1dbc9-53ee-4b9f-b03c-f197bb73d74c"
      },
      "execution_count": 34,
      "outputs": [
        {
          "output_type": "stream",
          "name": "stdout",
          "text": [
            "15/15 [==============================] - 0s 5ms/step\n",
            "15/15 [==============================] - 0s 4ms/step\n",
            "15/15 [==============================] - 0s 4ms/step\n",
            "15/15 [==============================] - 0s 4ms/step\n",
            "15/15 [==============================] - 0s 4ms/step\n",
            "15/15 [==============================] - 0s 4ms/step\n",
            "15/15 [==============================] - 0s 4ms/step\n",
            "Precision: 0.73 (+/- 0.32)\n",
            "Recall: 0.98 (+/- 0.10)\n"
          ]
        }
      ]
    },
    {
      "cell_type": "code",
      "source": [
        "print(\"Precision: %0.2f (+/- %0.2f)\" % (precisions.mean(), precisions.std() * 2))\n",
        "print(\"Recall: %0.2f (+/- %0.2f)\" % (recalls.mean(), recalls.std() * 2))"
      ],
      "metadata": {
        "colab": {
          "base_uri": "https://localhost:8080/"
        },
        "id": "Z7TEiGnI5rUf",
        "outputId": "d67f685a-0448-4513-d9ed-b5e9d136688d"
      },
      "execution_count": 42,
      "outputs": [
        {
          "output_type": "stream",
          "name": "stdout",
          "text": [
            "Precision: 0.73 (+/- 0.32)\n",
            "Recall: 0.98 (+/- 0.10)\n"
          ]
        }
      ]
    },
    {
      "cell_type": "code",
      "source": [],
      "metadata": {
        "id": "YgzfuWgi_2F3"
      },
      "execution_count": null,
      "outputs": []
    }
  ]
}