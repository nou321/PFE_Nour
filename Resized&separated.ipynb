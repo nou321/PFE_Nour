{
  "nbformat": 4,
  "nbformat_minor": 0,
  "metadata": {
    "colab": {
      "provenance": [],
      "authorship_tag": "ABX9TyMWm43WyldsU9DhOtfHGa5o",
      "include_colab_link": true
    },
    "kernelspec": {
      "name": "python3",
      "display_name": "Python 3"
    },
    "language_info": {
      "name": "python"
    }
  },
  "cells": [
    {
      "cell_type": "markdown",
      "metadata": {
        "id": "view-in-github",
        "colab_type": "text"
      },
      "source": [
        "<a href=\"https://colab.research.google.com/github/nou321/PFE_Nour/blob/main/Resized%26separated.ipynb\" target=\"_parent\"><img src=\"https://colab.research.google.com/assets/colab-badge.svg\" alt=\"Open In Colab\"/></a>"
      ]
    },
    {
      "cell_type": "code",
      "execution_count": 1,
      "metadata": {
        "id": "JEa-M9VwTQm-"
      },
      "outputs": [],
      "source": [
        "import os\n",
        "from PIL import Image\n",
        "import numpy as np \n",
        "import pandas as pd\n",
        "from skimage.io import imread\n",
        "import matplotlib.pyplot as plt\n",
        "import shutil\n",
        "from sklearn.model_selection import cross_validate, train_test_split\n",
        "from sklearn.metrics import make_scorer, recall_score, precision_score\n",
        "\n",
        "import tensorflow as tf\n",
        "import keras\n",
        "from keras.models import Sequential\n",
        "from keras.layers import Dense, Conv2D, Flatten, Dropout, MaxPooling2D, Activation, BatchNormalization\n",
        "from keras.backend import dropout\n",
        "from keras.layers.convolutional import Conv2D\n",
        "from keras.layers.pooling import MaxPooling2D\n",
        "\n",
        "from keras.wrappers.scikit_learn import KerasClassifier\n",
        "from sklearn.model_selection import cross_val_score\n"
      ]
    },
    {
      "cell_type": "code",
      "source": [
        "# Téléchargement de données\n",
        "from google.colab import drive\n",
        "drive.mount('/content/drive')"
      ],
      "metadata": {
        "colab": {
          "base_uri": "https://localhost:8080/"
        },
        "id": "uIVY8PPTTRiB",
        "outputId": "48523225-22b4-4548-fa70-5d104721ddce"
      },
      "execution_count": 2,
      "outputs": [
        {
          "output_type": "stream",
          "name": "stdout",
          "text": [
            "Mounted at /content/drive\n"
          ]
        }
      ]
    },
    {
      "cell_type": "code",
      "source": [
        "from ast import AugAssign\n",
        "input_path ='/content/drive/MyDrive/Colab Notebooks/Pfe/3 HarmonicSS benchmark dataset/Anonymized images'\n",
        "csv_path='/content/drive/MyDrive/Colab Notebooks/Pfe/3 HarmonicSS benchmark dataset/Anonymized_images.xlsx'\n",
        "nsj_path ='/content/drive/MyDrive/Colab Notebooks/Pfe/3 HarmonicSS benchmark dataset/nsj'\n",
        "sj_path ='/content/drive/MyDrive/Colab Notebooks/Pfe/3 HarmonicSS benchmark dataset/sj'\n",
        "all_resized=\"/content/drive/MyDrive/Colab Notebooks/Pfe/3 HarmonicSS benchmark dataset/DATA_(512,512)/all_data\"\n",
        "sj_resized=\"/content/drive/MyDrive/Colab Notebooks/Pfe/3 HarmonicSS benchmark dataset/DATA_(512,512)/sj_data\"\n",
        "nsj_resized=\"/content/drive/MyDrive/Colab Notebooks/Pfe/3 HarmonicSS benchmark dataset/DATA_(512,512)/nsj_data\""
      ],
      "metadata": {
        "id": "TwAoWa4QTVEh"
      },
      "execution_count": 3,
      "outputs": []
    },
    {
      "cell_type": "markdown",
      "source": [
        "# Redimensionner (64,64)"
      ],
      "metadata": {
        "id": "yodtYk1hZfER"
      }
    },
    {
      "cell_type": "code",
      "source": [
        "\n",
        "new_size = (512,512)\n",
        "\n",
        "# Parcourir le dossier d'entrée et redimensionner les images\n",
        "for filename in os.listdir(input_path):\n",
        "    if filename.endswith('.jpg'):\n",
        "        # Ouvrir l'image\n",
        "        image = Image.open(os.path.join(input_path, filename))\n",
        "\n",
        "        # Redimensionner l'image\n",
        "        resized_image = image.resize(new_size)\n",
        "\n",
        "        # Enregistrer l'image redimensionnée dans le dossier de sortie\n",
        "        resized_image.save(os.path.join(all_resized, filename))"
      ],
      "metadata": {
        "id": "gsOgB9nDT4Qu"
      },
      "execution_count": 4,
      "outputs": []
    },
    {
      "cell_type": "markdown",
      "source": [
        "# Separer les données (sj/nsj)"
      ],
      "metadata": {
        "id": "bjHbnDemZiQh"
      }
    },
    {
      "cell_type": "code",
      "source": [
        "# les index des images sjogreen Vs Non_sjogreen\n",
        "tab_data = pd.read_excel(csv_path) \n",
        "tab_data.head(10)"
      ],
      "metadata": {
        "colab": {
          "base_uri": "https://localhost:8080/",
          "height": 598
        },
        "id": "QuxHcoJFT4af",
        "outputId": "b2cb12d0-4467-4b47-e765-bbda3bbacdab"
      },
      "execution_count": 9,
      "outputs": [
        {
          "output_type": "execute_result",
          "data": {
            "text/plain": [
              "          Center  Anonymized ID parotid/submandibular  machine  \\\n",
              "0  Udine (Italy)              1         submandibular  samsung   \n",
              "1  Udine (Italy)              2               parotid  samsung   \n",
              "2  Udine (Italy)              3               parotid  samsung   \n",
              "3  Udine (Italy)              4               parotid  samsung   \n",
              "4  Udine (Italy)              5         submandibular  samsung   \n",
              "5  Udine (Italy)              6         submandibular  samsung   \n",
              "6  Udine (Italy)              7         submandibular  samsung   \n",
              "7  Udine (Italy)              8         submandibular  samsung   \n",
              "8  Udine (Italy)              9         submandibular  samsung   \n",
              "9  Udine (Italy)             10         submandibular  samsung   \n",
              "\n",
              "   De Vita et al. score  OMERACT score Sex  Age at US evaluation  \\\n",
              "0                     3              3   F                  72.0   \n",
              "1                     2              3   F                  72.0   \n",
              "2                     3              3   F                  59.0   \n",
              "3                     0              0   F                  65.0   \n",
              "4                     0              0   F                  65.0   \n",
              "5                     0              0   F                  69.0   \n",
              "6                     0              0   F                  55.0   \n",
              "7                     0              0   F                  55.0   \n",
              "8                     2              3   F                  68.0   \n",
              "9                     0              0   F                  56.0   \n",
              "\n",
              "   disease duration  \\\n",
              "0                18   \n",
              "1                18   \n",
              "2                 1   \n",
              "3                 8   \n",
              "4                 8   \n",
              "5                10   \n",
              "6                 5   \n",
              "7                 5   \n",
              "8                24   \n",
              "9                 8   \n",
              "\n",
              "   fulfillment of 2016 ACR-EULAR classification criteria for pSS   \n",
              "0                                                  1               \n",
              "1                                                  1               \n",
              "2                                                  0               \n",
              "3                                                  0               \n",
              "4                                                  0               \n",
              "5                                                  1               \n",
              "6                                                  1               \n",
              "7                                                  1               \n",
              "8                                                  1               \n",
              "9                                                  0               "
            ],
            "text/html": [
              "\n",
              "  <div id=\"df-b1ba63c9-7a22-46b1-9efb-c76a42dd99af\">\n",
              "    <div class=\"colab-df-container\">\n",
              "      <div>\n",
              "<style scoped>\n",
              "    .dataframe tbody tr th:only-of-type {\n",
              "        vertical-align: middle;\n",
              "    }\n",
              "\n",
              "    .dataframe tbody tr th {\n",
              "        vertical-align: top;\n",
              "    }\n",
              "\n",
              "    .dataframe thead th {\n",
              "        text-align: right;\n",
              "    }\n",
              "</style>\n",
              "<table border=\"1\" class=\"dataframe\">\n",
              "  <thead>\n",
              "    <tr style=\"text-align: right;\">\n",
              "      <th></th>\n",
              "      <th>Center</th>\n",
              "      <th>Anonymized ID</th>\n",
              "      <th>parotid/submandibular</th>\n",
              "      <th>machine</th>\n",
              "      <th>De Vita et al. score</th>\n",
              "      <th>OMERACT score</th>\n",
              "      <th>Sex</th>\n",
              "      <th>Age at US evaluation</th>\n",
              "      <th>disease duration</th>\n",
              "      <th>fulfillment of 2016 ACR-EULAR classification criteria for pSS</th>\n",
              "    </tr>\n",
              "  </thead>\n",
              "  <tbody>\n",
              "    <tr>\n",
              "      <th>0</th>\n",
              "      <td>Udine (Italy)</td>\n",
              "      <td>1</td>\n",
              "      <td>submandibular</td>\n",
              "      <td>samsung</td>\n",
              "      <td>3</td>\n",
              "      <td>3</td>\n",
              "      <td>F</td>\n",
              "      <td>72.0</td>\n",
              "      <td>18</td>\n",
              "      <td>1</td>\n",
              "    </tr>\n",
              "    <tr>\n",
              "      <th>1</th>\n",
              "      <td>Udine (Italy)</td>\n",
              "      <td>2</td>\n",
              "      <td>parotid</td>\n",
              "      <td>samsung</td>\n",
              "      <td>2</td>\n",
              "      <td>3</td>\n",
              "      <td>F</td>\n",
              "      <td>72.0</td>\n",
              "      <td>18</td>\n",
              "      <td>1</td>\n",
              "    </tr>\n",
              "    <tr>\n",
              "      <th>2</th>\n",
              "      <td>Udine (Italy)</td>\n",
              "      <td>3</td>\n",
              "      <td>parotid</td>\n",
              "      <td>samsung</td>\n",
              "      <td>3</td>\n",
              "      <td>3</td>\n",
              "      <td>F</td>\n",
              "      <td>59.0</td>\n",
              "      <td>1</td>\n",
              "      <td>0</td>\n",
              "    </tr>\n",
              "    <tr>\n",
              "      <th>3</th>\n",
              "      <td>Udine (Italy)</td>\n",
              "      <td>4</td>\n",
              "      <td>parotid</td>\n",
              "      <td>samsung</td>\n",
              "      <td>0</td>\n",
              "      <td>0</td>\n",
              "      <td>F</td>\n",
              "      <td>65.0</td>\n",
              "      <td>8</td>\n",
              "      <td>0</td>\n",
              "    </tr>\n",
              "    <tr>\n",
              "      <th>4</th>\n",
              "      <td>Udine (Italy)</td>\n",
              "      <td>5</td>\n",
              "      <td>submandibular</td>\n",
              "      <td>samsung</td>\n",
              "      <td>0</td>\n",
              "      <td>0</td>\n",
              "      <td>F</td>\n",
              "      <td>65.0</td>\n",
              "      <td>8</td>\n",
              "      <td>0</td>\n",
              "    </tr>\n",
              "    <tr>\n",
              "      <th>5</th>\n",
              "      <td>Udine (Italy)</td>\n",
              "      <td>6</td>\n",
              "      <td>submandibular</td>\n",
              "      <td>samsung</td>\n",
              "      <td>0</td>\n",
              "      <td>0</td>\n",
              "      <td>F</td>\n",
              "      <td>69.0</td>\n",
              "      <td>10</td>\n",
              "      <td>1</td>\n",
              "    </tr>\n",
              "    <tr>\n",
              "      <th>6</th>\n",
              "      <td>Udine (Italy)</td>\n",
              "      <td>7</td>\n",
              "      <td>submandibular</td>\n",
              "      <td>samsung</td>\n",
              "      <td>0</td>\n",
              "      <td>0</td>\n",
              "      <td>F</td>\n",
              "      <td>55.0</td>\n",
              "      <td>5</td>\n",
              "      <td>1</td>\n",
              "    </tr>\n",
              "    <tr>\n",
              "      <th>7</th>\n",
              "      <td>Udine (Italy)</td>\n",
              "      <td>8</td>\n",
              "      <td>submandibular</td>\n",
              "      <td>samsung</td>\n",
              "      <td>0</td>\n",
              "      <td>0</td>\n",
              "      <td>F</td>\n",
              "      <td>55.0</td>\n",
              "      <td>5</td>\n",
              "      <td>1</td>\n",
              "    </tr>\n",
              "    <tr>\n",
              "      <th>8</th>\n",
              "      <td>Udine (Italy)</td>\n",
              "      <td>9</td>\n",
              "      <td>submandibular</td>\n",
              "      <td>samsung</td>\n",
              "      <td>2</td>\n",
              "      <td>3</td>\n",
              "      <td>F</td>\n",
              "      <td>68.0</td>\n",
              "      <td>24</td>\n",
              "      <td>1</td>\n",
              "    </tr>\n",
              "    <tr>\n",
              "      <th>9</th>\n",
              "      <td>Udine (Italy)</td>\n",
              "      <td>10</td>\n",
              "      <td>submandibular</td>\n",
              "      <td>samsung</td>\n",
              "      <td>0</td>\n",
              "      <td>0</td>\n",
              "      <td>F</td>\n",
              "      <td>56.0</td>\n",
              "      <td>8</td>\n",
              "      <td>0</td>\n",
              "    </tr>\n",
              "  </tbody>\n",
              "</table>\n",
              "</div>\n",
              "      <button class=\"colab-df-convert\" onclick=\"convertToInteractive('df-b1ba63c9-7a22-46b1-9efb-c76a42dd99af')\"\n",
              "              title=\"Convert this dataframe to an interactive table.\"\n",
              "              style=\"display:none;\">\n",
              "        \n",
              "  <svg xmlns=\"http://www.w3.org/2000/svg\" height=\"24px\"viewBox=\"0 0 24 24\"\n",
              "       width=\"24px\">\n",
              "    <path d=\"M0 0h24v24H0V0z\" fill=\"none\"/>\n",
              "    <path d=\"M18.56 5.44l.94 2.06.94-2.06 2.06-.94-2.06-.94-.94-2.06-.94 2.06-2.06.94zm-11 1L8.5 8.5l.94-2.06 2.06-.94-2.06-.94L8.5 2.5l-.94 2.06-2.06.94zm10 10l.94 2.06.94-2.06 2.06-.94-2.06-.94-.94-2.06-.94 2.06-2.06.94z\"/><path d=\"M17.41 7.96l-1.37-1.37c-.4-.4-.92-.59-1.43-.59-.52 0-1.04.2-1.43.59L10.3 9.45l-7.72 7.72c-.78.78-.78 2.05 0 2.83L4 21.41c.39.39.9.59 1.41.59.51 0 1.02-.2 1.41-.59l7.78-7.78 2.81-2.81c.8-.78.8-2.07 0-2.86zM5.41 20L4 18.59l7.72-7.72 1.47 1.35L5.41 20z\"/>\n",
              "  </svg>\n",
              "      </button>\n",
              "      \n",
              "  <style>\n",
              "    .colab-df-container {\n",
              "      display:flex;\n",
              "      flex-wrap:wrap;\n",
              "      gap: 12px;\n",
              "    }\n",
              "\n",
              "    .colab-df-convert {\n",
              "      background-color: #E8F0FE;\n",
              "      border: none;\n",
              "      border-radius: 50%;\n",
              "      cursor: pointer;\n",
              "      display: none;\n",
              "      fill: #1967D2;\n",
              "      height: 32px;\n",
              "      padding: 0 0 0 0;\n",
              "      width: 32px;\n",
              "    }\n",
              "\n",
              "    .colab-df-convert:hover {\n",
              "      background-color: #E2EBFA;\n",
              "      box-shadow: 0px 1px 2px rgba(60, 64, 67, 0.3), 0px 1px 3px 1px rgba(60, 64, 67, 0.15);\n",
              "      fill: #174EA6;\n",
              "    }\n",
              "\n",
              "    [theme=dark] .colab-df-convert {\n",
              "      background-color: #3B4455;\n",
              "      fill: #D2E3FC;\n",
              "    }\n",
              "\n",
              "    [theme=dark] .colab-df-convert:hover {\n",
              "      background-color: #434B5C;\n",
              "      box-shadow: 0px 1px 3px 1px rgba(0, 0, 0, 0.15);\n",
              "      filter: drop-shadow(0px 1px 2px rgba(0, 0, 0, 0.3));\n",
              "      fill: #FFFFFF;\n",
              "    }\n",
              "  </style>\n",
              "\n",
              "      <script>\n",
              "        const buttonEl =\n",
              "          document.querySelector('#df-b1ba63c9-7a22-46b1-9efb-c76a42dd99af button.colab-df-convert');\n",
              "        buttonEl.style.display =\n",
              "          google.colab.kernel.accessAllowed ? 'block' : 'none';\n",
              "\n",
              "        async function convertToInteractive(key) {\n",
              "          const element = document.querySelector('#df-b1ba63c9-7a22-46b1-9efb-c76a42dd99af');\n",
              "          const dataTable =\n",
              "            await google.colab.kernel.invokeFunction('convertToInteractive',\n",
              "                                                     [key], {});\n",
              "          if (!dataTable) return;\n",
              "\n",
              "          const docLinkHtml = 'Like what you see? Visit the ' +\n",
              "            '<a target=\"_blank\" href=https://colab.research.google.com/notebooks/data_table.ipynb>data table notebook</a>'\n",
              "            + ' to learn more about interactive tables.';\n",
              "          element.innerHTML = '';\n",
              "          dataTable['output_type'] = 'display_data';\n",
              "          await google.colab.output.renderOutput(dataTable, element);\n",
              "          const docLink = document.createElement('div');\n",
              "          docLink.innerHTML = docLinkHtml;\n",
              "          element.appendChild(docLink);\n",
              "        }\n",
              "      </script>\n",
              "    </div>\n",
              "  </div>\n",
              "  "
            ]
          },
          "metadata": {},
          "execution_count": 9
        }
      ]
    },
    {
      "cell_type": "code",
      "source": [
        "nsj = tab_data[tab_data['De Vita et al. score']==0].index\n",
        "sj= tab_data[tab_data['De Vita et al. score']!=0].index"
      ],
      "metadata": {
        "id": "O9o-zmaLT4eU"
      },
      "execution_count": 6,
      "outputs": []
    },
    {
      "cell_type": "code",
      "source": [
        "from numpy.lib.type_check import imag\n",
        "# sj dossier\n",
        "\n",
        "images_dir = os.path.join(all_resized)\n",
        "images_liste = os.listdir(images_dir)\n",
        "images_liste.sort()\n"
      ],
      "metadata": {
        "id": "lQyVcBR7WnWH"
      },
      "execution_count": 7,
      "outputs": []
    },
    {
      "cell_type": "code",
      "source": [
        "# sj dossier\n",
        "for ind in sj:\n",
        "    shutil.copy(all_resized+'/'+images_liste[ind],sj_resized+'/'+images_liste[ind])\n",
        "    \n",
        "for ind in nsj:\n",
        "    shutil.copy(all_resized+'/'+images_liste[ind], nsj_resized+'/'+images_liste[ind])"
      ],
      "metadata": {
        "id": "klzPZYVdWFhi"
      },
      "execution_count": 8,
      "outputs": []
    },
    {
      "cell_type": "code",
      "source": [],
      "metadata": {
        "id": "z5bu7VJy09ri"
      },
      "execution_count": null,
      "outputs": []
    }
  ]
}